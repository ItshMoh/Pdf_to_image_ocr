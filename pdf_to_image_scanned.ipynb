{
  "cells": [
    {
      "cell_type": "markdown",
      "metadata": {
        "id": "view-in-github",
        "colab_type": "text"
      },
      "source": [
        "<a href=\"https://colab.research.google.com/github/ItshMoh/Pdf_to_image_ocr/blob/main/pdf_to_image_scanned.ipynb\" target=\"_parent\"><img src=\"https://colab.research.google.com/assets/colab-badge.svg\" alt=\"Open In Colab\"/></a>"
      ]
    },
    {
      "cell_type": "code",
      "execution_count": null,
      "metadata": {
        "colab": {
          "base_uri": "https://localhost:8080/"
        },
        "id": "IFBGbs-6Kj0O",
        "outputId": "3fa28de8-0ae6-41de-ca31-9065da7f1e6b"
      },
      "outputs": [
        {
          "name": "stdout",
          "output_type": "stream",
          "text": [
            "\u001b[2K     \u001b[90m━━━━━━━━━━━━━━━━━━━━━━━━━━━━━━━━━━━━━━━━\u001b[0m \u001b[32m3.9/3.9 MB\u001b[0m \u001b[31m14.2 MB/s\u001b[0m eta \u001b[36m0:00:00\u001b[0m\n",
            "\u001b[2K     \u001b[90m━━━━━━━━━━━━━━━━━━━━━━━━━━━━━━━━━━━━━━━━\u001b[0m \u001b[32m30.8/30.8 MB\u001b[0m \u001b[31m27.6 MB/s\u001b[0m eta \u001b[36m0:00:00\u001b[0m\n",
            "\u001b[?25h"
          ]
        }
      ],
      "source": [
        "!pip install -q pymupdf"
      ]
    },
    {
      "cell_type": "code",
      "source": [
        "!sudo apt install tesseract-ocr"
      ],
      "metadata": {
        "id": "lMmmI8lah5bg"
      },
      "execution_count": null,
      "outputs": []
    },
    {
      "cell_type": "code",
      "execution_count": null,
      "metadata": {
        "id": "9yXbvDSkcWqo"
      },
      "outputs": [],
      "source": [
        "!pip install -q pytesseract"
      ]
    },
    {
      "cell_type": "code",
      "source": [
        "!sudo apt install tesseract-ocr-hin"
      ],
      "metadata": {
        "id": "JOvZDLFEhtNI"
      },
      "execution_count": null,
      "outputs": []
    },
    {
      "cell_type": "code",
      "source": [
        "import pytesseract"
      ],
      "metadata": {
        "id": "EkIig5jsjPHJ"
      },
      "execution_count": null,
      "outputs": []
    },
    {
      "cell_type": "code",
      "source": [
        "pytesseract.pytesseract.tesseract_cmd = r'/bin/tesseract'"
      ],
      "metadata": {
        "id": "Qxaw8JEziEuQ"
      },
      "execution_count": null,
      "outputs": []
    },
    {
      "cell_type": "code",
      "source": [
        "\n",
        "import glob, sys, fitz\n",
        "\n",
        "# To get better resolution\n",
        "zoom_x = 2.0  # horizontal zoom\n",
        "zoom_y = 2.0  # vertical zoom\n",
        "mat = fitz.Matrix(zoom_x, zoom_y)  # zoom factor 2 in each dimension\n",
        "\n",
        "path = '/content/138_doc.pdf'\n",
        "all_files = glob.glob(path)\n",
        "\n",
        "for filename in all_files:\n",
        "    doc = fitz.open(filename)  # open document\n",
        "    for page in doc:  # iterate through the pages\n",
        "        pix = page.get_pixmap(matrix=mat)  # render page to an image\n",
        "        pix.save(\"../content/imagesss/page-%i.png\" % page.number)  # store image as a PNG"
      ],
      "metadata": {
        "id": "lVF69qEIqtJq"
      },
      "execution_count": null,
      "outputs": []
    },
    {
      "cell_type": "code",
      "source": [
        "import os\n",
        "import pytesseract\n",
        "from PIL import Image\n",
        "\n",
        "# Path to your directory containing images\n",
        "image_dir = \"/content/imagesss\"\n",
        "\n",
        "# Point pytesseract to the Tesseract OCR engine executable\n",
        "\n",
        "\n",
        "# Iterate through files in the directory\n",
        "for filename in os.listdir(image_dir):\n",
        "    if filename.endswith(\".jpg\") or filename.endswith(\".png\"):  # Check for image file extensions\n",
        "        image_path = os.path.join(image_dir, filename)\n",
        "\n",
        "        # Open the image with PIL\n",
        "        img = Image.open(image_path)\n",
        "\n",
        "        # Extract text using Pytesseract\n",
        "        text = pytesseract.image_to_string(img,lang='hin+eng')\n",
        "\n",
        "        # Print the extracted text or process it further\n",
        "        print(f\"Text extracted from {filename}:\\n{text}\\n\")"
      ],
      "metadata": {
        "id": "vRymQ9kIsek3"
      },
      "execution_count": null,
      "outputs": []
    },
    {
      "cell_type": "code",
      "source": [],
      "metadata": {
        "id": "CB3dVh0Dr0st"
      },
      "execution_count": null,
      "outputs": []
    }
  ],
  "metadata": {
    "colab": {
      "provenance": [],
      "authorship_tag": "ABX9TyM0kld1xkoyyJWp43IgoLDG",
      "include_colab_link": true
    },
    "kernelspec": {
      "display_name": "Python 3",
      "name": "python3"
    },
    "language_info": {
      "name": "python"
    }
  },
  "nbformat": 4,
  "nbformat_minor": 0
}